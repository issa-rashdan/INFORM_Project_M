{
  "cells": [
    {
      "cell_type": "markdown",
      "metadata": {
        "id": "view-in-github",
        "colab_type": "text"
      },
      "source": [
        "<a href=\"https://colab.research.google.com/github/issa-rashdan/INFORM_Project_M/blob/main/data_pre.ipynb\" target=\"_parent\"><img src=\"https://colab.research.google.com/assets/colab-badge.svg\" alt=\"Open In Colab\"/></a>"
      ]
    },
    {
      "cell_type": "code",
      "execution_count": 1,
      "metadata": {
        "colab": {
          "base_uri": "https://localhost:8080/"
        },
        "id": "r1qKB-N-axTT",
        "outputId": "bdc29e54-0178-4c84-b702-b47bb8d0fa87"
      },
      "outputs": [
        {
          "output_type": "stream",
          "name": "stdout",
          "text": [
            "Mounted at /content/drive\n"
          ]
        }
      ],
      "source": [
        "from google.colab import drive\n",
        "drive.mount('/content/drive')"
      ]
    },
    {
      "cell_type": "code",
      "execution_count": 2,
      "metadata": {
        "colab": {
          "base_uri": "https://localhost:8080/"
        },
        "id": "-a1yWPmQa5Bc",
        "outputId": "66bde13c-674b-4678-cdc2-0969929125e8"
      },
      "outputs": [
        {
          "output_type": "stream",
          "name": "stdout",
          "text": [
            "Cloning into 'INFORM_Project_M'...\n",
            "remote: Enumerating objects: 145, done.\u001b[K\n",
            "remote: Counting objects: 100% (145/145), done.\u001b[K\n",
            "remote: Compressing objects: 100% (133/133), done.\u001b[K\n",
            "remote: Total 145 (delta 52), reused 68 (delta 9), pack-reused 0 (from 0)\u001b[K\n",
            "Receiving objects: 100% (145/145), 125.67 KiB | 1.72 MiB/s, done.\n",
            "Resolving deltas: 100% (52/52), done.\n"
          ]
        }
      ],
      "source": [
        "!git clone https://github.com/issa-rashdan/INFORM_Project_M.git"
      ]
    },
    {
      "cell_type": "markdown",
      "source": [
        "# Getting Echograms"
      ],
      "metadata": {
        "id": "VLICeQdJ9U-V"
      }
    },
    {
      "cell_type": "code",
      "source": [
        "import numpy as np\n",
        "from INFORM_Project_M.data.echosounder_data.load_data.get_echograms_2 import get_echograms, count_classes_in_echograms\n",
        "\n",
        "# You can select a specific year or use 'all' to include multiple years.\n",
        "years = 2014\n",
        "minimum_shape = 224\n",
        "tuple_frequencies = (18, 38, 70, 120, 200, 333)\n",
        "echograms = get_echograms(years=years, tuple_frequencies=tuple_frequencies, minimum_shape=minimum_shape)\n",
        "print(f\"Number of echograms: {len(echograms)}\")"
      ],
      "metadata": {
        "colab": {
          "base_uri": "https://localhost:8080/"
        },
        "id": "4Esh4kbJjYzl",
        "outputId": "c6321f94-8248-4f99-84b9-ff5d1ed75903"
      },
      "execution_count": 3,
      "outputs": [
        {
          "output_type": "stream",
          "name": "stdout",
          "text": [
            "Selected 10 echograms from year 2014\n",
            "Number of echograms: 10\n"
          ]
        }
      ]
    },
    {
      "cell_type": "markdown",
      "source": [
        "# Data split into Train and Test"
      ],
      "metadata": {
        "id": "2YLf0kFd9OFf"
      }
    },
    {
      "cell_type": "code",
      "source": [
        "import os\n",
        "import random\n",
        "# Randomly split echograms into train/test\n",
        "random.seed(42)  # Set a seed for reproducibility\n",
        "Train_eg = []\n",
        "test_eg = []\n",
        "echogram = random.shuffle(echograms)  # Shuffle echograms randomly\n",
        "for i,echogram in enumerate(echograms):\n",
        "  if i < 0.8*len(echograms):\n",
        "    Train_eg.append(echogram)\n",
        "  else:\n",
        "    test_eg.append(echogram)\n",
        "\n",
        "#Save the echograms to files\n",
        "train_dir = '/content/INFORM_Project_M/train'\n",
        "test_dir = '/content/INFORM_Project_M/test'\n",
        "os.makedirs(train_dir, exist_ok=True)\n",
        "os.makedirs(test_dir, exist_ok=True)\n",
        "\n",
        "for i, echogram in enumerate(Train_eg):\n",
        " os.path.join(train_dir, f'echogram_{i}.npy')\n",
        "for i, echogram in enumerate(test_eg):\n",
        "  os.path.join(test_dir, f'echogram_{i}.npy')\n",
        "\n",
        "# Print the number of echograms in each set\n",
        "print('Train Echogram:', len(Train_eg))\n",
        "print('Test Echogram:', len(test_eg))"
      ],
      "metadata": {
        "colab": {
          "base_uri": "https://localhost:8080/"
        },
        "id": "nGmigTNImJkC",
        "outputId": "2e0d95e9-88cd-4fd8-a709-b62ab8aaa789"
      },
      "execution_count": 4,
      "outputs": [
        {
          "output_type": "stream",
          "name": "stdout",
          "text": [
            "Train Echogram: 8\n",
            "Test Echogram: 2\n"
          ]
        }
      ]
    },
    {
      "cell_type": "markdown",
      "source": [
        "# Data Patching"
      ],
      "metadata": {
        "id": "o9Lp0_ix8_l9"
      }
    },
    {
      "cell_type": "code",
      "source": [
        "from INFORM_Project_M.data.echosounder_data.preprocessing.resize_and_crop import SplitResizeEchogram, generate_patch_batches\n",
        "from INFORM_Project_M.data.echosounder_data.preprocessing.normalization import db, clip, standardize_min_max\n",
        "import numpy as np\n",
        "\n",
        "data_transform = [db, clip, standardize_min_max]\n",
        "split_patch_size = 448\n",
        "output_patch_size = 448\n",
        "\n",
        "\n",
        "#---Train set---\n",
        "train_generators, num_patches_per_train_echogram = generate_patch_batches(Train_eg, split_patch_size,\n",
        "                                                                          output_patch_size, data_transforms= data_transform,\n",
        "                                                                          batch_size='full', verbose= False)\n",
        "print('Number of patches per echogram for training:', num_patches_per_train_echogram )\n",
        "\n",
        "#---Test set---\n",
        "generators_test, num_patches_per_test_echogram = generate_patch_batches(test_eg, split_patch_size, output_patch_size,\n",
        "                                                                        data_transforms= data_transform,\n",
        "                                                                        batch_size='full', verbose= False)\n",
        "print('Number of patches per echogram for testing:', num_patches_per_train_echogram )\n",
        "\n",
        "train_patches = 0\n",
        "test_patches = 0\n",
        "for patches in num_patches_per_train_echogram:\n",
        "  train_patches += patches\n",
        "for patches in num_patches_per_test_echogram:\n",
        "  test_patches += patches\n",
        "print('Number of patches in training set:', train_patches)\n",
        "print('Number of patches in test set:', test_patches)"
      ],
      "metadata": {
        "colab": {
          "base_uri": "https://localhost:8080/"
        },
        "id": "JrD8xfs655sf",
        "outputId": "fd8213a7-0aab-4010-ff8a-041ecb09d9ee"
      },
      "execution_count": 5,
      "outputs": [
        {
          "output_type": "stream",
          "name": "stdout",
          "text": [
            "Number of patches per echogram for training: [np.int64(37), np.int64(7), np.int64(8), np.int64(7), np.int64(10), np.int64(16), np.int64(10), np.int64(8)]\n",
            "Number of patches per echogram for testing: [np.int64(37), np.int64(7), np.int64(8), np.int64(7), np.int64(10), np.int64(16), np.int64(10), np.int64(8)]\n",
            "Number of patches in training set: 103\n",
            "Number of patches in test set: 24\n"
          ]
        }
      ]
    },
    {
      "cell_type": "markdown",
      "source": [
        "# dimensionality reduction 6 to 3"
      ],
      "metadata": {
        "id": "h2Zfc9nV9Hj4"
      }
    },
    {
      "cell_type": "code",
      "source": [
        "from INFORM_Project_M.data.echosounder_data.dataloader import BatchGeneratorDataset, GroupedGenerator, group_generators_by_patch_limit\n",
        "from INFORM_Project_M.adaptation_method.model_config import Configuration\n",
        "from torch.utils.data import DataLoader\n",
        "import torch\n",
        "import numpy as np\n",
        "\n",
        "\n",
        "run = Configuration()\n",
        "#---Training set---\n",
        "print('-------Dimensions for Training set-------------')\n",
        "grouped_generator_fns, grouped_patch_count = group_generators_by_patch_limit(train_generators,\n",
        "                                                                             num_patches_per_train_echogram,\n",
        "                                                                             64)\n",
        "train_dataset = BatchGeneratorDataset(grouped_generator_fns)\n",
        "train_loader = DataLoader(train_dataset, batch_size = None, pin_memory=True)\n",
        "\n",
        "for label, data, mask in train_loader:\n",
        "  print(data.shape)"
      ],
      "metadata": {
        "colab": {
          "base_uri": "https://localhost:8080/",
          "height": 401
        },
        "id": "O15mo3MXkLt7",
        "outputId": "10571a35-c45e-42c6-de59-cbd833367752"
      },
      "execution_count": 6,
      "outputs": [
        {
          "output_type": "stream",
          "name": "stderr",
          "text": [
            "/usr/local/lib/python3.12/dist-packages/notebook/notebookapp.py:191: SyntaxWarning: invalid escape sequence '\\/'\n",
            "  | |_| | '_ \\/ _` / _` |  _/ -_)\n"
          ]
        },
        {
          "output_type": "display_data",
          "data": {
            "text/plain": [
              "<IPython.core.display.Javascript object>"
            ],
            "application/javascript": [
              "\n",
              "        window._wandbApiKey = new Promise((resolve, reject) => {\n",
              "            function loadScript(url) {\n",
              "            return new Promise(function(resolve, reject) {\n",
              "                let newScript = document.createElement(\"script\");\n",
              "                newScript.onerror = reject;\n",
              "                newScript.onload = resolve;\n",
              "                document.body.appendChild(newScript);\n",
              "                newScript.src = url;\n",
              "            });\n",
              "            }\n",
              "            loadScript(\"https://cdn.jsdelivr.net/npm/postmate/build/postmate.min.js\").then(() => {\n",
              "            const iframe = document.createElement('iframe')\n",
              "            iframe.style.cssText = \"width:0;height:0;border:none\"\n",
              "            document.body.appendChild(iframe)\n",
              "            const handshake = new Postmate({\n",
              "                container: iframe,\n",
              "                url: 'https://wandb.ai/authorize'\n",
              "            });\n",
              "            const timeout = setTimeout(() => reject(\"Couldn't auto authenticate\"), 5000)\n",
              "            handshake.then(function(child) {\n",
              "                child.on('authorize', data => {\n",
              "                    clearTimeout(timeout)\n",
              "                    resolve(data)\n",
              "                });\n",
              "            });\n",
              "            })\n",
              "        });\n",
              "    "
            ]
          },
          "metadata": {}
        },
        {
          "output_type": "stream",
          "name": "stderr",
          "text": [
            "\u001b[34m\u001b[1mwandb\u001b[0m: Logging into wandb.ai. (Learn how to deploy a W&B server locally: https://wandb.me/wandb-server)\n",
            "\u001b[34m\u001b[1mwandb\u001b[0m: You can find your API key in your browser here: https://wandb.ai/authorize?ref=models\n",
            "wandb: Paste an API key from your profile and hit enter:"
          ]
        },
        {
          "name": "stdout",
          "output_type": "stream",
          "text": [
            " ··········\n"
          ]
        },
        {
          "output_type": "stream",
          "name": "stderr",
          "text": [
            "\u001b[34m\u001b[1mwandb\u001b[0m: \u001b[33mWARNING\u001b[0m If you're specifying your api key in code, ensure this code is not shared publicly.\n",
            "\u001b[34m\u001b[1mwandb\u001b[0m: \u001b[33mWARNING\u001b[0m Consider setting the WANDB_API_KEY environment variable, or running `wandb login` from the command line.\n",
            "\u001b[34m\u001b[1mwandb\u001b[0m: No netrc file found, creating one.\n",
            "\u001b[34m\u001b[1mwandb\u001b[0m: Appending key for api.wandb.ai to your netrc file: /root/.netrc\n",
            "\u001b[34m\u001b[1mwandb\u001b[0m: Currently logged in as: \u001b[33missa-rashdan\u001b[0m (\u001b[33missa-rashdan-university-of-oslo\u001b[0m) to \u001b[32mhttps://api.wandb.ai\u001b[0m. Use \u001b[1m`wandb login --relogin`\u001b[0m to force relogin\n"
          ]
        },
        {
          "output_type": "display_data",
          "data": {
            "text/plain": [
              "<IPython.core.display.HTML object>"
            ],
            "text/html": [
              "Tracking run with wandb version 0.21.1"
            ]
          },
          "metadata": {}
        },
        {
          "output_type": "display_data",
          "data": {
            "text/plain": [
              "<IPython.core.display.HTML object>"
            ],
            "text/html": [
              "Run data is saved locally in <code>/content/wandb/run-20250829_185509-ughjj2xz</code>"
            ]
          },
          "metadata": {}
        },
        {
          "output_type": "display_data",
          "data": {
            "text/plain": [
              "<IPython.core.display.HTML object>"
            ],
            "text/html": [
              "Syncing run <strong><a href='https://wandb.ai/issa-rashdan-university-of-oslo/Adapter/runs/ughjj2xz' target=\"_blank\">_run</a></strong> to <a href='https://wandb.ai/issa-rashdan-university-of-oslo/Adapter' target=\"_blank\">Weights & Biases</a> (<a href='https://wandb.me/developer-guide' target=\"_blank\">docs</a>)<br>"
            ]
          },
          "metadata": {}
        },
        {
          "output_type": "display_data",
          "data": {
            "text/plain": [
              "<IPython.core.display.HTML object>"
            ],
            "text/html": [
              " View project at <a href='https://wandb.ai/issa-rashdan-university-of-oslo/Adapter' target=\"_blank\">https://wandb.ai/issa-rashdan-university-of-oslo/Adapter</a>"
            ]
          },
          "metadata": {}
        },
        {
          "output_type": "display_data",
          "data": {
            "text/plain": [
              "<IPython.core.display.HTML object>"
            ],
            "text/html": [
              " View run at <a href='https://wandb.ai/issa-rashdan-university-of-oslo/Adapter/runs/ughjj2xz' target=\"_blank\">https://wandb.ai/issa-rashdan-university-of-oslo/Adapter/runs/ughjj2xz</a>"
            ]
          },
          "metadata": {}
        },
        {
          "output_type": "stream",
          "name": "stdout",
          "text": [
            "-------Dimensions for Training set-------------\n"
          ]
        },
        {
          "output_type": "stream",
          "name": "stderr",
          "text": [
            "/usr/local/lib/python3.12/dist-packages/torch/utils/data/dataloader.py:666: UserWarning: 'pin_memory' argument is set as true but no accelerator is found, then device pinned memory won't be used.\n",
            "  warnings.warn(warn_msg)\n"
          ]
        },
        {
          "output_type": "stream",
          "name": "stdout",
          "text": [
            "torch.Size([59, 6, 448, 448])\n",
            "torch.Size([44, 6, 448, 448])\n"
          ]
        }
      ]
    },
    {
      "cell_type": "code",
      "source": [
        "#---Test Set---\n",
        "print('-------Dimensions for Test set-------------')\n",
        "grouped_generator_fns_test, grouped_patch_count_test = group_generators_by_patch_limit(generators_test,\n",
        "                                                                                       num_patches_per_test_echogram,\n",
        "                                                                                       64)\n",
        "test_dataset = BatchGeneratorDataset(grouped_generator_fns_test)\n",
        "test_loader = DataLoader(test_dataset, batch_size = None, pin_memory= True)\n",
        "\n",
        "for label, data, mask in test_loader:\n",
        "  print(data.shape)"
      ],
      "metadata": {
        "colab": {
          "base_uri": "https://localhost:8080/"
        },
        "id": "FoLK1v-VlV2c",
        "outputId": "d6bb244d-1ac2-4cb5-87c1-7fd95a622ffb"
      },
      "execution_count": 7,
      "outputs": [
        {
          "output_type": "stream",
          "name": "stdout",
          "text": [
            "-------Dimensions for Test set-------------\n",
            "torch.Size([24, 6, 448, 448])\n"
          ]
        }
      ]
    },
    {
      "cell_type": "code",
      "source": [
        "from INFORM_Project_M.adaptation_method.train_autoencoder import train_val_encoder, plot_loss\n",
        "from INFORM_Project_M.adaptation_method.Autoencoder import Autoencoder\n",
        "import torch.nn as nn\n",
        "import torch.optim as optim\n",
        "\n",
        "#For logging\n",
        "run = Configuration(model_name = 'Autoencoder')\n",
        "\n",
        "#Instantiating model\n",
        "model = Autoencoder()\n",
        "\n",
        "\n",
        "\n",
        "# Defining Loss function and optimizer\n",
        "Loss_func = nn.MSELoss()\n",
        "optimizer = optim.Adam(model.parameters(), lr = run.config['learning_rate'], weight_decay = run.config['Weight_decay'])\n",
        "\n",
        "latent,  val_latent, avg_loss_train, avg_loss_val, stop_epoch = train_val_encoder(model, optimizer, Loss_func, run.config['epochs'], train_loader, test_loader, run)\n",
        "\n",
        "plot_loss(run.config['epochs'], avg_loss_train, avg_loss_val, stop_epoch)"
      ],
      "metadata": {
        "colab": {
          "base_uri": "https://localhost:8080/",
          "height": 1000
        },
        "id": "42uX0GYyiNHO",
        "outputId": "919cabc2-aaad-47d0-dbf7-403bf48a55fa"
      },
      "execution_count": 8,
      "outputs": [
        {
          "output_type": "display_data",
          "data": {
            "text/plain": [
              "<IPython.core.display.HTML object>"
            ],
            "text/html": [
              "Finishing previous runs because reinit is set to 'default'."
            ]
          },
          "metadata": {}
        },
        {
          "output_type": "display_data",
          "data": {
            "text/plain": [
              "<IPython.core.display.HTML object>"
            ],
            "text/html": []
          },
          "metadata": {}
        },
        {
          "output_type": "display_data",
          "data": {
            "text/plain": [
              "<IPython.core.display.HTML object>"
            ],
            "text/html": [
              " View run <strong style=\"color:#cdcd00\">_run</strong> at: <a href='https://wandb.ai/issa-rashdan-university-of-oslo/Adapter/runs/ughjj2xz' target=\"_blank\">https://wandb.ai/issa-rashdan-university-of-oslo/Adapter/runs/ughjj2xz</a><br> View project at: <a href='https://wandb.ai/issa-rashdan-university-of-oslo/Adapter' target=\"_blank\">https://wandb.ai/issa-rashdan-university-of-oslo/Adapter</a><br>Synced 5 W&B file(s), 0 media file(s), 0 artifact file(s) and 0 other file(s)"
            ]
          },
          "metadata": {}
        },
        {
          "output_type": "display_data",
          "data": {
            "text/plain": [
              "<IPython.core.display.HTML object>"
            ],
            "text/html": [
              "Find logs at: <code>./wandb/run-20250829_185509-ughjj2xz/logs</code>"
            ]
          },
          "metadata": {}
        },
        {
          "output_type": "display_data",
          "data": {
            "text/plain": [
              "<IPython.core.display.HTML object>"
            ],
            "text/html": [
              "Tracking run with wandb version 0.21.1"
            ]
          },
          "metadata": {}
        },
        {
          "output_type": "display_data",
          "data": {
            "text/plain": [
              "<IPython.core.display.HTML object>"
            ],
            "text/html": [
              "Run data is saved locally in <code>/content/wandb/run-20250829_185559-kyglxt9i</code>"
            ]
          },
          "metadata": {}
        },
        {
          "output_type": "display_data",
          "data": {
            "text/plain": [
              "<IPython.core.display.HTML object>"
            ],
            "text/html": [
              "Syncing run <strong><a href='https://wandb.ai/issa-rashdan-university-of-oslo/Adapter/runs/kyglxt9i' target=\"_blank\">Autoencoder_run</a></strong> to <a href='https://wandb.ai/issa-rashdan-university-of-oslo/Adapter' target=\"_blank\">Weights & Biases</a> (<a href='https://wandb.me/developer-guide' target=\"_blank\">docs</a>)<br>"
            ]
          },
          "metadata": {}
        },
        {
          "output_type": "display_data",
          "data": {
            "text/plain": [
              "<IPython.core.display.HTML object>"
            ],
            "text/html": [
              " View project at <a href='https://wandb.ai/issa-rashdan-university-of-oslo/Adapter' target=\"_blank\">https://wandb.ai/issa-rashdan-university-of-oslo/Adapter</a>"
            ]
          },
          "metadata": {}
        },
        {
          "output_type": "display_data",
          "data": {
            "text/plain": [
              "<IPython.core.display.HTML object>"
            ],
            "text/html": [
              " View run at <a href='https://wandb.ai/issa-rashdan-university-of-oslo/Adapter/runs/kyglxt9i' target=\"_blank\">https://wandb.ai/issa-rashdan-university-of-oslo/Adapter/runs/kyglxt9i</a>"
            ]
          },
          "metadata": {}
        },
        {
          "output_type": "stream",
          "name": "stderr",
          "text": [
            "Epoch 1/30: 100%|██████████| 2/2 [01:26<00:00, 43.43s/it]\n"
          ]
        },
        {
          "output_type": "stream",
          "name": "stdout",
          "text": [
            "Train encodings: min=0.0173, max=0.9654\n",
            "Val latents: min=0.0361, max=0.9278\n",
            " Train Loss = 0.1038 ,Validation Loss = 0.0799\n"
          ]
        },
        {
          "output_type": "stream",
          "name": "stderr",
          "text": [
            "Epoch 2/30: 100%|██████████| 2/2 [01:15<00:00, 37.67s/it]\n"
          ]
        },
        {
          "output_type": "stream",
          "name": "stdout",
          "text": [
            "Train encodings: min=0.0447, max=0.9106\n",
            "Val latents: min=0.0484, max=0.9031\n",
            " Train Loss = 0.0815 ,Validation Loss = 0.0661\n"
          ]
        },
        {
          "output_type": "stream",
          "name": "stderr",
          "text": [
            "Epoch 3/30: 100%|██████████| 2/2 [01:15<00:00, 37.75s/it]\n"
          ]
        },
        {
          "output_type": "stream",
          "name": "stdout",
          "text": [
            "Train encodings: min=0.0651, max=0.8676\n",
            "Val latents: min=0.0580, max=0.8839\n",
            " Train Loss = 0.0702 ,Validation Loss = 0.0480\n"
          ]
        },
        {
          "output_type": "stream",
          "name": "stderr",
          "text": [
            "Epoch 4/30: 100%|██████████| 2/2 [01:15<00:00, 37.75s/it]\n"
          ]
        },
        {
          "output_type": "stream",
          "name": "stdout",
          "text": [
            "Train encodings: min=0.0676, max=0.8600\n",
            "Val latents: min=0.0592, max=0.8815\n",
            " Train Loss = 0.0589 ,Validation Loss = 0.0390\n"
          ]
        },
        {
          "output_type": "stream",
          "name": "stderr",
          "text": [
            "Epoch 5/30: 100%|██████████| 2/2 [01:14<00:00, 37.10s/it]\n"
          ]
        },
        {
          "output_type": "stream",
          "name": "stdout",
          "text": [
            "Train encodings: min=0.0652, max=0.8616\n",
            "Val latents: min=0.0552, max=0.8897\n",
            " Train Loss = 0.0434 ,Validation Loss = 0.0323\n"
          ]
        },
        {
          "output_type": "stream",
          "name": "stderr",
          "text": [
            "Epoch 6/30: 100%|██████████| 2/2 [01:16<00:00, 38.13s/it]\n"
          ]
        },
        {
          "output_type": "stream",
          "name": "stdout",
          "text": [
            "Train encodings: min=0.0594, max=0.8744\n",
            "Val latents: min=0.0506, max=0.8988\n",
            " Train Loss = 0.0409 ,Validation Loss = 0.0282\n"
          ]
        },
        {
          "output_type": "stream",
          "name": "stderr",
          "text": [
            "Epoch 7/30: 100%|██████████| 2/2 [01:14<00:00, 37.27s/it]\n"
          ]
        },
        {
          "output_type": "stream",
          "name": "stdout",
          "text": [
            "Train encodings: min=0.0543, max=0.8877\n",
            "Val latents: min=0.0438, max=0.9124\n",
            " Train Loss = 0.0320 ,Validation Loss = 0.0236\n"
          ]
        },
        {
          "output_type": "stream",
          "name": "stderr",
          "text": [
            "Epoch 8/30: 100%|██████████| 2/2 [01:22<00:00, 41.05s/it]\n"
          ]
        },
        {
          "output_type": "stream",
          "name": "stdout",
          "text": [
            "Train encodings: min=0.0491, max=0.9009\n",
            "Val latents: min=0.0426, max=0.9148\n",
            " Train Loss = 0.0261 ,Validation Loss = 0.0235\n"
          ]
        },
        {
          "output_type": "stream",
          "name": "stderr",
          "text": [
            "Epoch 9/30: 100%|██████████| 2/2 [01:14<00:00, 37.36s/it]\n"
          ]
        },
        {
          "output_type": "stream",
          "name": "stdout",
          "text": [
            "Train encodings: min=0.0482, max=0.9036\n",
            "Val latents: min=0.0431, max=0.9138\n",
            " Train Loss = 0.0283 ,Validation Loss = 0.0221\n"
          ]
        },
        {
          "output_type": "stream",
          "name": "stderr",
          "text": [
            "Epoch 10/30: 100%|██████████| 2/2 [01:14<00:00, 37.43s/it]\n"
          ]
        },
        {
          "output_type": "stream",
          "name": "stdout",
          "text": [
            "Train encodings: min=0.0506, max=0.8987\n",
            "Val latents: min=0.0460, max=0.9080\n",
            " Train Loss = 0.0263 ,Validation Loss = 0.0248\n"
          ]
        },
        {
          "output_type": "stream",
          "name": "stderr",
          "text": [
            "Epoch 11/30: 100%|██████████| 2/2 [01:15<00:00, 37.89s/it]\n"
          ]
        },
        {
          "output_type": "stream",
          "name": "stdout",
          "text": [
            "Train encodings: min=0.0490, max=0.9019\n",
            "Val latents: min=0.0435, max=0.9130\n",
            " Train Loss = 0.0230 ,Validation Loss = 0.0182\n"
          ]
        },
        {
          "output_type": "stream",
          "name": "stderr",
          "text": [
            "Epoch 12/30: 100%|██████████| 2/2 [01:14<00:00, 37.24s/it]\n"
          ]
        },
        {
          "output_type": "stream",
          "name": "stdout",
          "text": [
            "Train encodings: min=0.0468, max=0.9064\n",
            "Val latents: min=0.0404, max=0.9192\n",
            " Train Loss = 0.0219 ,Validation Loss = 0.0231\n"
          ]
        },
        {
          "output_type": "stream",
          "name": "stderr",
          "text": [
            "Epoch 13/30: 100%|██████████| 2/2 [01:16<00:00, 38.09s/it]\n"
          ]
        },
        {
          "output_type": "stream",
          "name": "stdout",
          "text": [
            "Train encodings: min=0.0403, max=0.9194\n",
            "Val latents: min=0.0321, max=0.9357\n",
            " Train Loss = 0.0208 ,Validation Loss = 0.0223\n"
          ]
        },
        {
          "output_type": "stream",
          "name": "stderr",
          "text": [
            "Epoch 14/30: 100%|██████████| 2/2 [01:14<00:00, 37.16s/it]\n"
          ]
        },
        {
          "output_type": "stream",
          "name": "stdout",
          "text": [
            "Train encodings: min=0.0304, max=0.9392\n",
            "Val latents: min=0.0229, max=0.9542\n",
            " Train Loss = 0.0227 ,Validation Loss = 0.0211\n"
          ]
        },
        {
          "output_type": "stream",
          "name": "stderr",
          "text": [
            "Epoch 15/30: 100%|██████████| 2/2 [01:21<00:00, 40.70s/it]\n"
          ]
        },
        {
          "output_type": "stream",
          "name": "stdout",
          "text": [
            "Train encodings: min=0.0209, max=0.9583\n",
            "Val latents: min=0.0156, max=0.9688\n",
            " Train Loss = 0.0212 ,Validation Loss = 0.0166\n"
          ]
        },
        {
          "output_type": "stream",
          "name": "stderr",
          "text": [
            "Epoch 16/30: 100%|██████████| 2/2 [01:17<00:00, 38.63s/it]\n"
          ]
        },
        {
          "output_type": "stream",
          "name": "stdout",
          "text": [
            "Train encodings: min=0.0165, max=0.9670\n",
            "Val latents: min=0.0140, max=0.9720\n",
            " Train Loss = 0.0185 ,Validation Loss = 0.0187\n"
          ]
        },
        {
          "output_type": "stream",
          "name": "stderr",
          "text": [
            "Epoch 17/30: 100%|██████████| 2/2 [01:14<00:00, 37.35s/it]\n"
          ]
        },
        {
          "output_type": "stream",
          "name": "stdout",
          "text": [
            "Train encodings: min=0.0159, max=0.9681\n",
            "Val latents: min=0.0143, max=0.9714\n",
            " Train Loss = 0.0193 ,Validation Loss = 0.0164\n"
          ]
        },
        {
          "output_type": "stream",
          "name": "stderr",
          "text": [
            "Epoch 18/30: 100%|██████████| 2/2 [01:20<00:00, 40.31s/it]\n"
          ]
        },
        {
          "output_type": "stream",
          "name": "stdout",
          "text": [
            "Train encodings: min=0.0176, max=0.9648\n",
            "Val latents: min=0.0175, max=0.9650\n",
            " Train Loss = 0.0182 ,Validation Loss = 0.0165\n"
          ]
        },
        {
          "output_type": "stream",
          "name": "stderr",
          "text": [
            "Epoch 19/30: 100%|██████████| 2/2 [01:14<00:00, 37.28s/it]\n"
          ]
        },
        {
          "output_type": "stream",
          "name": "stdout",
          "text": [
            "Train encodings: min=0.0224, max=0.9552\n",
            "Val latents: min=0.0256, max=0.9488\n",
            " Train Loss = 0.0173 ,Validation Loss = 0.0164\n"
          ]
        },
        {
          "output_type": "stream",
          "name": "stderr",
          "text": [
            "Epoch 20/30: 100%|██████████| 2/2 [01:15<00:00, 37.75s/it]\n"
          ]
        },
        {
          "output_type": "stream",
          "name": "stdout",
          "text": [
            "Train encodings: min=0.0326, max=0.9348\n",
            "Val latents: min=0.0401, max=0.9197\n",
            " Train Loss = 0.0167 ,Validation Loss = 0.0157\n"
          ]
        },
        {
          "output_type": "stream",
          "name": "stderr",
          "text": [
            "Epoch 21/30: 100%|██████████| 2/2 [01:14<00:00, 37.01s/it]\n"
          ]
        },
        {
          "output_type": "stream",
          "name": "stdout",
          "text": [
            "Train encodings: min=0.0494, max=0.9012\n",
            "Val latents: min=0.0588, max=0.8824\n",
            " Train Loss = 0.0160 ,Validation Loss = 0.0157\n"
          ]
        },
        {
          "output_type": "stream",
          "name": "stderr",
          "text": [
            "Epoch 22/30: 100%|██████████| 2/2 [01:19<00:00, 39.70s/it]\n"
          ]
        },
        {
          "output_type": "stream",
          "name": "stdout",
          "text": [
            "Train encodings: min=0.0655, max=0.8690\n",
            "Val latents: min=0.0676, max=0.8649\n",
            " Train Loss = 0.0152 ,Validation Loss = 0.0154\n"
          ]
        },
        {
          "output_type": "stream",
          "name": "stderr",
          "text": [
            "Epoch 23/30: 100%|██████████| 2/2 [01:16<00:00, 38.45s/it]\n"
          ]
        },
        {
          "output_type": "stream",
          "name": "stdout",
          "text": [
            "Train encodings: min=0.0669, max=0.8661\n",
            "Val latents: min=0.0661, max=0.8677\n",
            " Train Loss = 0.0150 ,Validation Loss = 0.0144\n"
          ]
        },
        {
          "output_type": "stream",
          "name": "stderr",
          "text": [
            "Epoch 24/30: 100%|██████████| 2/2 [01:14<00:00, 37.07s/it]\n"
          ]
        },
        {
          "output_type": "stream",
          "name": "stdout",
          "text": [
            "Train encodings: min=0.0651, max=0.8698\n",
            "Val latents: min=0.0636, max=0.8729\n",
            " Train Loss = 0.0144 ,Validation Loss = 0.0143\n"
          ]
        },
        {
          "output_type": "stream",
          "name": "stderr",
          "text": [
            "Epoch 25/30: 100%|██████████| 2/2 [01:13<00:00, 36.98s/it]\n"
          ]
        },
        {
          "output_type": "stream",
          "name": "stdout",
          "text": [
            "Train encodings: min=0.0663, max=0.8673\n",
            "Val latents: min=0.0676, max=0.8647\n",
            " Train Loss = 0.0139 ,Validation Loss = 0.0141\n"
          ]
        },
        {
          "output_type": "stream",
          "name": "stderr",
          "text": [
            "Epoch 26/30: 100%|██████████| 2/2 [01:13<00:00, 36.99s/it]\n"
          ]
        },
        {
          "output_type": "stream",
          "name": "stdout",
          "text": [
            "Train encodings: min=0.0739, max=0.8523\n",
            "Val latents: min=0.0753, max=0.8493\n",
            " Train Loss = 0.0133 ,Validation Loss = 0.0140\n"
          ]
        },
        {
          "output_type": "stream",
          "name": "stderr",
          "text": [
            "Epoch 27/30: 100%|██████████| 2/2 [01:13<00:00, 36.91s/it]\n"
          ]
        },
        {
          "output_type": "stream",
          "name": "stdout",
          "text": [
            "Train encodings: min=0.0799, max=0.8403\n",
            "Val latents: min=0.0796, max=0.8409\n",
            " Train Loss = 0.0129 ,Validation Loss = 0.0139\n"
          ]
        },
        {
          "output_type": "stream",
          "name": "stderr",
          "text": [
            "Epoch 28/30: 100%|██████████| 2/2 [01:15<00:00, 37.68s/it]\n"
          ]
        },
        {
          "output_type": "stream",
          "name": "stdout",
          "text": [
            "Train encodings: min=0.0806, max=0.8387\n",
            "Val latents: min=0.0774, max=0.8451\n",
            " Train Loss = 0.0125 ,Validation Loss = 0.0134\n"
          ]
        },
        {
          "output_type": "stream",
          "name": "stderr",
          "text": [
            "Epoch 29/30: 100%|██████████| 2/2 [01:13<00:00, 36.60s/it]\n"
          ]
        },
        {
          "output_type": "stream",
          "name": "stdout",
          "text": [
            "Train encodings: min=0.0783, max=0.8434\n",
            "Val latents: min=0.0757, max=0.8485\n",
            " Train Loss = 0.0122 ,Validation Loss = 0.0128\n"
          ]
        },
        {
          "output_type": "stream",
          "name": "stderr",
          "text": [
            "Epoch 30/30: 100%|██████████| 2/2 [01:22<00:00, 41.20s/it]\n"
          ]
        },
        {
          "output_type": "stream",
          "name": "stdout",
          "text": [
            "Train encodings: min=0.0786, max=0.8428\n",
            "Val latents: min=0.0806, max=0.8389\n",
            " Train Loss = 0.0115 ,Validation Loss = 0.0128\n"
          ]
        },
        {
          "output_type": "display_data",
          "data": {
            "text/plain": [
              "<IPython.core.display.HTML object>"
            ],
            "text/html": []
          },
          "metadata": {}
        },
        {
          "output_type": "display_data",
          "data": {
            "text/plain": [
              "<IPython.core.display.HTML object>"
            ],
            "text/html": [
              "<br>    <style><br>        .wandb-row {<br>            display: flex;<br>            flex-direction: row;<br>            flex-wrap: wrap;<br>            justify-content: flex-start;<br>            width: 100%;<br>        }<br>        .wandb-col {<br>            display: flex;<br>            flex-direction: column;<br>            flex-basis: 100%;<br>            flex: 1;<br>            padding: 10px;<br>        }<br>    </style><br><div class=\"wandb-row\"><div class=\"wandb-col\"><h3>Run history:</h3><br/><table class=\"wandb\"><tr><td>epoch</td><td>▁▁▁▂▂▂▂▃▃▃▃▄▄▄▄▅▅▅▅▆▆▆▆▇▇▇▇███</td></tr><tr><td>train_loss</td><td>█▆▅▅▃▃▃▂▂▂▂▂▂▂▂▂▂▂▁▁▁▁▁▁▁▁▁▁▁▁</td></tr><tr><td>val_loss</td><td>█▇▅▄▃▃▂▂▂▂▂▂▂▂▁▂▁▁▁▁▁▁▁▁▁▁▁▁▁▁</td></tr></table><br/></div><div class=\"wandb-col\"><h3>Run summary:</h3><br/><table class=\"wandb\"><tr><td>epoch</td><td>30</td></tr><tr><td>train_loss</td><td>0.01149</td></tr><tr><td>val_loss</td><td>0.01277</td></tr></table><br/></div></div>"
            ]
          },
          "metadata": {}
        },
        {
          "output_type": "display_data",
          "data": {
            "text/plain": [
              "<IPython.core.display.HTML object>"
            ],
            "text/html": [
              " View run <strong style=\"color:#cdcd00\">Autoencoder_run</strong> at: <a href='https://wandb.ai/issa-rashdan-university-of-oslo/Adapter/runs/kyglxt9i' target=\"_blank\">https://wandb.ai/issa-rashdan-university-of-oslo/Adapter/runs/kyglxt9i</a><br> View project at: <a href='https://wandb.ai/issa-rashdan-university-of-oslo/Adapter' target=\"_blank\">https://wandb.ai/issa-rashdan-university-of-oslo/Adapter</a><br>Synced 5 W&B file(s), 0 media file(s), 0 artifact file(s) and 0 other file(s)"
            ]
          },
          "metadata": {}
        },
        {
          "output_type": "display_data",
          "data": {
            "text/plain": [
              "<IPython.core.display.HTML object>"
            ],
            "text/html": [
              "Find logs at: <code>./wandb/run-20250829_185559-kyglxt9i/logs</code>"
            ]
          },
          "metadata": {}
        },
        {
          "output_type": "display_data",
          "data": {
            "text/plain": [
              "<Figure size 1200x800 with 1 Axes>"
            ],
            "image/png": "[encoded data removed]"
          },
          "metadata": {}
        }
      ]
    },
    {
      "cell_type": "code",
      "source": [],
      "metadata": {
        "id": "fJDGcZnAlc2M"
      },
      "execution_count": null,
      "outputs": []
    }
  ],
  "metadata": {
    "colab": {
      "provenance": [],
      "authorship_tag": "ABX9TyNy62V0oX2aOXeTzqE7E2kJ",
      "include_colab_link": true
    },
    "kernelspec": {
      "display_name": "Python 3",
      "name": "python3"
    },
    "language_info": {
      "name": "python"
    }
  },
  "nbformat": 4,
  "nbformat_minor": 0
}