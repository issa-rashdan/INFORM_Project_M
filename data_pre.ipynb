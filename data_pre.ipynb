{
  "cells": [
    {
      "cell_type": "markdown",
      "metadata": {
        "id": "view-in-github",
        "colab_type": "text"
      },
      "source": [
        "<a href=\"https://colab.research.google.com/github/issa-rashdan/INFORM_Project_M/blob/main/data_pre.ipynb\" target=\"_parent\"><img src=\"https://colab.research.google.com/assets/colab-badge.svg\" alt=\"Open In Colab\"/></a>"
      ]
    },
    {
      "cell_type": "code",
      "execution_count": 1,
      "metadata": {
        "colab": {
          "base_uri": "https://localhost:8080/"
        },
        "id": "r1qKB-N-axTT",
        "outputId": "4031480d-35cf-479e-a8a3-76122480fa0f"
      },
      "outputs": [
        {
          "output_type": "stream",
          "name": "stdout",
          "text": [
            "Drive already mounted at /content/drive; to attempt to forcibly remount, call drive.mount(\"/content/drive\", force_remount=True).\n"
          ]
        }
      ],
      "source": [
        "from google.colab import drive\n",
        "drive.mount('/content/drive')"
      ]
    },
    {
      "cell_type": "code",
      "execution_count": 2,
      "metadata": {
        "colab": {
          "base_uri": "https://localhost:8080/"
        },
        "id": "-a1yWPmQa5Bc",
        "outputId": "3ba30b16-cbbc-414e-8203-ed6b6e907a34"
      },
      "outputs": [
        {
          "output_type": "stream",
          "name": "stdout",
          "text": [
            "fatal: destination path 'INFORM_Project_M' already exists and is not an empty directory.\n"
          ]
        }
      ],
      "source": [
        "!git clone https://github.com/issa-rashdan/INFORM_Project_M.git"
      ]
    },
    {
      "cell_type": "code",
      "source": [
        "import numpy as np\n",
        "from INFORM_Project_M.data.echosounder_data.load_data.get_echograms_2 import get_echograms, count_classes_in_echograms\n",
        "\n",
        "# You can select a specific year or use 'all' to include multiple years.\n",
        "years = 2014\n",
        "minimum_shape = 224\n",
        "tuple_frequencies = (18, 38, 70, 120, 200, 333)\n",
        "echograms = get_echograms(years=years, tuple_frequencies=tuple_frequencies, minimum_shape=minimum_shape)\n",
        "print(f\"Number of echograms: {len(echograms)}\")"
      ],
      "metadata": {
        "colab": {
          "base_uri": "https://localhost:8080/"
        },
        "id": "4Esh4kbJjYzl",
        "outputId": "dcfffacd-a108-4222-cbb2-74a79e670f2c"
      },
      "execution_count": 3,
      "outputs": [
        {
          "output_type": "stream",
          "name": "stdout",
          "text": [
            "Selected 10 echograms from year 2014\n",
            "Number of echograms: 10\n"
          ]
        }
      ]
    },
    {
      "cell_type": "code",
      "source": [
        "import os\n",
        "import random\n",
        "# Randomly split echograms into train/test\n",
        "random.seed(42)  # Set a seed for reproducibility\n",
        "Train_eg = []\n",
        "test_eg = []\n",
        "echogram = random.shuffle(echograms)  # Shuffle echograms randomly\n",
        "for i,echogram in enumerate(echograms):\n",
        "  if i < 0.8*len(echograms):\n",
        "    Train_eg.append(echogram)\n",
        "  else:\n",
        "    test_eg.append(echogram)\n",
        "\n",
        "#Save the echograms to files\n",
        "train_dir = '/content/INFORM_Project_M/train'\n",
        "test_dir = '/content/INFORM_Project_M/test'\n",
        "os.makedirs(train_dir, exist_ok=True)\n",
        "os.makedirs(test_dir, exist_ok=True)\n",
        "\n",
        "for i, echogram in enumerate(Train_eg):\n",
        " os.path.join(train_dir, f'echogram_{i}.npy')\n",
        "for i, echogram in enumerate(test_eg):\n",
        "  os.path.join(test_dir, f'echogram_{i}.npy')\n",
        "\n",
        "# Print the number of echograms in each set\n",
        "print('Train Echogram:', len(Train_eg))\n",
        "print('Test Echogram:', len(test_eg))"
      ],
      "metadata": {
        "colab": {
          "base_uri": "https://localhost:8080/"
        },
        "id": "nGmigTNImJkC",
        "outputId": "4998e1f0-3cf4-45eb-b506-897c970ed5c6"
      },
      "execution_count": 12,
      "outputs": [
        {
          "output_type": "stream",
          "name": "stdout",
          "text": [
            "Train Echogram: 8\n",
            "Test Echogram: 2\n"
          ]
        }
      ]
    },
    {
      "cell_type": "code",
      "source": [
        "import os, random\n",
        "import numpy as np\n",
        "from PIL import Image\n",
        "\n",
        "# Directories\n",
        "train_dir = \"/content/INFORM_Project_M/train\"\n",
        "test_dir  = \"/content/INFORM_Project_M/test\"\n",
        "os.makedirs(train_dir, exist_ok=True)\n",
        "os.makedirs(test_dir, exist_ok=True)\n",
        "\n",
        "# Train/test split\n",
        "random.seed(42)\n",
        "random.shuffle(echograms)\n",
        "split_idx = int(0.8 * len(echograms))\n",
        "train_egs, test_egs = echograms[:split_idx], echograms[split_idx:]\n",
        "\n",
        "# Helper: convert Echogram → PIL\n",
        "def echogram_to_pil(e):\n",
        "    data = e.data_memmap()  # <— if not correct, tell me the right accessor\n",
        "    if isinstance(data, dict):     # likely {freq: 2D array}\n",
        "        arr = np.array(list(data.values())[0])  # just take one frequency\n",
        "    else:\n",
        "        arr = np.asarray(data)\n",
        "    arr = (arr - np.nanmin(arr)) / (np.nanmax(arr) - np.nanmin(arr) + 1e-8)\n",
        "    arr = (arr * 255).astype(np.uint8)\n",
        "    return Image.fromarray(arr)\n",
        "\n",
        "# Save echograms\n",
        "for i, eg in enumerate(train_egs):\n",
        "    echogram_to_pil(eg).save(os.path.join(train_dir, f\"echogram_{i:05d}.png\"))\n",
        "\n",
        "for i, eg in enumerate(test_egs):\n",
        "    echogram_to_pil(eg).save(os.path.join(test_dir, f\"echogram_{i:05d}.png\"))\n",
        "\n",
        "print(\"Train Echograms:\", len(train_egs))\n",
        "print(\"Test Echograms:\", len(test_egs))\n"
      ],
      "metadata": {
        "colab": {
          "base_uri": "https://localhost:8080/",
          "height": 332
        },
        "id": "6IG0Q-KFrb8N",
        "outputId": "9038dda3-2716-470c-eb80-a837a10b2fe7"
      },
      "execution_count": 9,
      "outputs": [
        {
          "output_type": "error",
          "ename": "AttributeError",
          "evalue": "'Echogram' object has no attribute 'data_memmap'",
          "traceback": [
            "\u001b[0;31m---------------------------------------------------------------------------\u001b[0m",
            "\u001b[0;31mAttributeError\u001b[0m                            Traceback (most recent call last)",
            "\u001b[0;32m/tmp/ipython-input-3454594432.py\u001b[0m in \u001b[0;36m<cell line: 0>\u001b[0;34m()\u001b[0m\n\u001b[1;32m     28\u001b[0m \u001b[0;31m# Save echograms\u001b[0m\u001b[0;34m\u001b[0m\u001b[0;34m\u001b[0m\u001b[0m\n\u001b[1;32m     29\u001b[0m \u001b[0;32mfor\u001b[0m \u001b[0mi\u001b[0m\u001b[0;34m,\u001b[0m \u001b[0meg\u001b[0m \u001b[0;32min\u001b[0m \u001b[0menumerate\u001b[0m\u001b[0;34m(\u001b[0m\u001b[0mtrain_egs\u001b[0m\u001b[0;34m)\u001b[0m\u001b[0;34m:\u001b[0m\u001b[0;34m\u001b[0m\u001b[0;34m\u001b[0m\u001b[0m\n\u001b[0;32m---> 30\u001b[0;31m     \u001b[0mechogram_to_pil\u001b[0m\u001b[0;34m(\u001b[0m\u001b[0meg\u001b[0m\u001b[0;34m)\u001b[0m\u001b[0;34m.\u001b[0m\u001b[0msave\u001b[0m\u001b[0;34m(\u001b[0m\u001b[0mos\u001b[0m\u001b[0;34m.\u001b[0m\u001b[0mpath\u001b[0m\u001b[0;34m.\u001b[0m\u001b[0mjoin\u001b[0m\u001b[0;34m(\u001b[0m\u001b[0mtrain_dir\u001b[0m\u001b[0;34m,\u001b[0m \u001b[0;34mf\"echogram_{i:05d}.png\"\u001b[0m\u001b[0;34m)\u001b[0m\u001b[0;34m)\u001b[0m\u001b[0;34m\u001b[0m\u001b[0;34m\u001b[0m\u001b[0m\n\u001b[0m\u001b[1;32m     31\u001b[0m \u001b[0;34m\u001b[0m\u001b[0m\n\u001b[1;32m     32\u001b[0m \u001b[0;32mfor\u001b[0m \u001b[0mi\u001b[0m\u001b[0;34m,\u001b[0m \u001b[0meg\u001b[0m \u001b[0;32min\u001b[0m \u001b[0menumerate\u001b[0m\u001b[0;34m(\u001b[0m\u001b[0mtest_egs\u001b[0m\u001b[0;34m)\u001b[0m\u001b[0;34m:\u001b[0m\u001b[0;34m\u001b[0m\u001b[0;34m\u001b[0m\u001b[0m\n",
            "\u001b[0;32m/tmp/ipython-input-3454594432.py\u001b[0m in \u001b[0;36mechogram_to_pil\u001b[0;34m(e)\u001b[0m\n\u001b[1;32m     17\u001b[0m \u001b[0;31m# Helper: convert Echogram → PIL\u001b[0m\u001b[0;34m\u001b[0m\u001b[0;34m\u001b[0m\u001b[0m\n\u001b[1;32m     18\u001b[0m \u001b[0;32mdef\u001b[0m \u001b[0mechogram_to_pil\u001b[0m\u001b[0;34m(\u001b[0m\u001b[0me\u001b[0m\u001b[0;34m)\u001b[0m\u001b[0;34m:\u001b[0m\u001b[0;34m\u001b[0m\u001b[0;34m\u001b[0m\u001b[0m\n\u001b[0;32m---> 19\u001b[0;31m     \u001b[0mdata\u001b[0m \u001b[0;34m=\u001b[0m \u001b[0me\u001b[0m\u001b[0;34m.\u001b[0m\u001b[0mdata_memmap\u001b[0m\u001b[0;34m(\u001b[0m\u001b[0;34m)\u001b[0m  \u001b[0;31m# <— if not correct, tell me the right accessor\u001b[0m\u001b[0;34m\u001b[0m\u001b[0;34m\u001b[0m\u001b[0m\n\u001b[0m\u001b[1;32m     20\u001b[0m     \u001b[0;32mif\u001b[0m \u001b[0misinstance\u001b[0m\u001b[0;34m(\u001b[0m\u001b[0mdata\u001b[0m\u001b[0;34m,\u001b[0m \u001b[0mdict\u001b[0m\u001b[0;34m)\u001b[0m\u001b[0;34m:\u001b[0m     \u001b[0;31m# likely {freq: 2D array}\u001b[0m\u001b[0;34m\u001b[0m\u001b[0;34m\u001b[0m\u001b[0m\n\u001b[1;32m     21\u001b[0m         \u001b[0marr\u001b[0m \u001b[0;34m=\u001b[0m \u001b[0mnp\u001b[0m\u001b[0;34m.\u001b[0m\u001b[0marray\u001b[0m\u001b[0;34m(\u001b[0m\u001b[0mlist\u001b[0m\u001b[0;34m(\u001b[0m\u001b[0mdata\u001b[0m\u001b[0;34m.\u001b[0m\u001b[0mvalues\u001b[0m\u001b[0;34m(\u001b[0m\u001b[0;34m)\u001b[0m\u001b[0;34m)\u001b[0m\u001b[0;34m[\u001b[0m\u001b[0;36m0\u001b[0m\u001b[0;34m]\u001b[0m\u001b[0;34m)\u001b[0m  \u001b[0;31m# just take one frequency\u001b[0m\u001b[0;34m\u001b[0m\u001b[0;34m\u001b[0m\u001b[0m\n",
            "\u001b[0;31mAttributeError\u001b[0m: 'Echogram' object has no attribute 'data_memmap'"
          ]
        }
      ]
    }
  ],
  "metadata": {
    "colab": {
      "provenance": [],
      "authorship_tag": "ABX9TyNQLsxFkyVcjx7MhN5w5BNC",
      "include_colab_link": true
    },
    "kernelspec": {
      "display_name": "Python 3",
      "name": "python3"
    },
    "language_info": {
      "name": "python"
    }
  },
  "nbformat": 4,
  "nbformat_minor": 0
}